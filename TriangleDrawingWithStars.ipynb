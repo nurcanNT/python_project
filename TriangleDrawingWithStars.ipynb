{
 "cells": [
  {
   "cell_type": "markdown",
   "metadata": {},
   "source": [
    "Working With The Stars (Yıldızlarla Çalışma)"
   ]
  },
  {
   "cell_type": "code",
   "execution_count": 15,
   "metadata": {},
   "outputs": [
    {
     "name": "stdout",
     "output_type": "stream",
     "text": [
      "*\n",
      "**\n",
      "***\n",
      "****\n",
      "*****\n"
     ]
    }
   ],
   "source": [
    "#Kullanıcıdan veri alınarak yapılan dik üçgen\n",
    "rows = int(input(\"Üçgen için istediğiniz satır sayısını giriniz : \")) #Konsoldan istenilen veri girilir.\n",
    "for i in range(1,rows+1):                    #Döngü başlar\n",
    "    print(i*\"*\")    #Döngüyü yıldız ile şekillenir "
   ]
  },
  {
   "cell_type": "code",
   "execution_count": 81,
   "metadata": {},
   "outputs": [
    {
     "name": "stdout",
     "output_type": "stream",
     "text": [
      "'Square with stars'\n",
      "* * * * * * \n",
      "* * * * * * \n",
      "* * * * * * \n",
      "* * * * * * \n",
      "\n"
     ]
    }
   ],
   "source": [
    "#Square\n",
    "rows = 6\n",
    "column = 6\n",
    "print(\"'Square with stars'\")\n",
    "for rows in range(rows):\n",
    "  print(\"*\", end=' ')\n",
    "print()\n",
    "\n",
    "for rows in range(column):\n",
    "    print(\"*\", end=' ')\n",
    "print()\n",
    "\n",
    "for rows in range(column):\n",
    "    print(\"*\", end=' ')\n",
    "print()\n",
    "\n",
    "for rows in range(column):\n",
    "    print(\"*\", end=' ')\n",
    "print()\n",
    "\n",
    "print()\n"
   ]
  },
  {
   "cell_type": "code",
   "execution_count": 83,
   "metadata": {},
   "outputs": [
    {
     "name": "stdout",
     "output_type": "stream",
     "text": [
      "'Right triangle with stars'\n",
      "* \n",
      "* * \n",
      "* * * \n",
      "* * * * \n",
      "* * * * * \n",
      "-------------------------------------------\n",
      "*-\n",
      "*-*-\n",
      "*-*-*-\n",
      "*-*-*-*-\n",
      "*-*-*-*-*-\n"
     ]
    }
   ],
   "source": [
    "print(\"'Right triangle with stars'\")\n",
    "for i in range(1, rows+1):\n",
    "    print (\"*\"\" \" * i)\n",
    "print(\"-------------------------------------------\")\n",
    "for i in range(1, rows+1):\n",
    "    print (\"*\"\"-\" * i)"
   ]
  },
  {
   "cell_type": "code",
   "execution_count": 85,
   "metadata": {},
   "outputs": [
    {
     "name": "stdout",
     "output_type": "stream",
     "text": [
      "* * * * * \n",
      "* * * * \n",
      "* * * \n",
      "* * \n",
      "* \n",
      "-------------------------------------------\n",
      "*-*-*-*-*-\n",
      "*-*-*-*-\n",
      "*-*-*-\n",
      "*-*-\n",
      "*-\n"
     ]
    }
   ],
   "source": [
    "for i in range(rows, 0, -1):\n",
    "    print(\"*\"\" \"*i)\n",
    "print(\"-------------------------------------------\")\n",
    "for i in range(rows, 0, -1):\n",
    "    print(\"*\"\"-\"*i)"
   ]
  },
  {
   "cell_type": "code",
   "execution_count": 92,
   "metadata": {},
   "outputs": [
    {
     "name": "stdout",
     "output_type": "stream",
     "text": [
      "    *\n",
      "   **\n",
      "  ***\n",
      " ****\n",
      "*****\n",
      "-------------------------------------------\n",
      "Burada boşluklara ekleme yaparak döngüyü canlandırdım\n",
      "////*\n",
      "///**\n",
      "//***\n",
      "/****\n",
      "*****\n"
     ]
    }
   ],
   "source": [
    "for i in range(1, rows+1):\n",
    "    print(\" \"*(rows-i)+\"*\"*i)\n",
    "print(\"-------------------------------------------\")\n",
    "print(\"Burada boşluklara ekleme yaparak döngüyü canlandırdım\")\n",
    "for i in range(1, rows+1):\n",
    "    print(\"/\"*(rows-i)+\"*\"*i)"
   ]
  },
  {
   "cell_type": "code",
   "execution_count": 100,
   "metadata": {},
   "outputs": [
    {
     "name": "stdout",
     "output_type": "stream",
     "text": [
      "*****\n",
      " ****\n",
      "  ***\n",
      "   **\n",
      "    *\n",
      "-------------------------------------------\n",
      "*****\n",
      "-****\n",
      "--***\n",
      "---**\n",
      "----*\n"
     ]
    }
   ],
   "source": [
    "for i in range(rows, 0, -1):\n",
    "    print(\" \"*(rows-i)+\"*\"*i)\n",
    "print(\"-------------------------------------------\")\n",
    "for i in range(rows, 0, -1):\n",
    "      print(\"-\"*(rows-i)+\"*\"*i)"
   ]
  },
  {
   "cell_type": "code",
   "execution_count": 129,
   "metadata": {},
   "outputs": [
    {
     "name": "stdout",
     "output_type": "stream",
     "text": [
      "    **\n",
      "   ****\n",
      "  ******\n",
      " ********\n",
      "**********\n",
      "**********\n",
      " ********\n",
      "  ******\n",
      "   ****\n",
      "    **\n"
     ]
    }
   ],
   "source": [
    "#Çeşitli yollar ile üçgen yapımı\n",
    "#Üçgen kod satırı\n",
    "for i in range(1, rows+1):\n",
    "  print(\" \"*(rows-i) + \"*\"*i*2)\n",
    "#Ters üçgen kod satırı\n",
    "for i in range(rows, 0, -1):\n",
    "  print(\" \"* (rows-i) + \"*\"*i*2)\n"
   ]
  },
  {
   "cell_type": "code",
   "execution_count": 152,
   "metadata": {},
   "outputs": [
    {
     "name": "stdout",
     "output_type": "stream",
     "text": [
      "     * \n",
      "    * * \n",
      "   * * * \n",
      "  * * * * \n",
      " * * * * * \n",
      "* * * * * * \n",
      "* * * * * * \n",
      " * * * * * \n",
      "  * * * * \n",
      "   * * * \n",
      "    * * \n",
      "     * \n"
     ]
    }
   ],
   "source": [
    "#Üçgen yapımı için kod satırı\n",
    "for i in range(rows):\n",
    "    for k in range(-5, -i):\n",
    "        print(\" \", end=\"\")\n",
    "    for j in range(i+1):\n",
    "        print(\"* \", end=\"\")\n",
    "    print()\n",
    "#Ters üçgen \n",
    "for i in range(rows, 0, -1):\n",
    "      print(\" \"*(rows-i)+\"*\"\" \"*i)"
   ]
  },
  {
   "cell_type": "code",
   "execution_count": 262,
   "metadata": {},
   "outputs": [
    {
     "name": "stdout",
     "output_type": "stream",
     "text": [
      "\n",
      "*          *\n",
      "**        **\n",
      "***      ***\n",
      "****    ****\n",
      "*****  *****\n",
      "************\n",
      "************\n",
      "*****  *****\n",
      "****    ****\n",
      "***      ***\n",
      "**        **\n",
      "*          *\n"
     ]
    }
   ],
   "source": [
    "# Üçgenlerle V yapımı\n",
    "print() # Boş print() satır atlamak için kullanılır.\n",
    "for i in range(1, rows+1):\n",
    "  print(\"*\" * i + \" \"* ((rows-i)*2) + \"*\"*i)\n",
    "# Üçgenlerle ters V yapımı\n",
    "for i in range(rows, 0, -1):\n",
    "      print(\"\"*(rows-i)+\"*\"*i+\"  \"\"\"*(rows-i)+\"*\"*i)\n",
    "     \n",
    "  \n",
    "\n"
   ]
  }
 ],
 "metadata": {
  "kernelspec": {
   "display_name": "Python 3.10.4 64-bit (windows store)",
   "language": "python",
   "name": "python3"
  },
  "language_info": {
   "codemirror_mode": {
    "name": "ipython",
    "version": 3
   },
   "file_extension": ".py",
   "mimetype": "text/x-python",
   "name": "python",
   "nbconvert_exporter": "python",
   "pygments_lexer": "ipython3",
   "version": "3.10.4"
  },
  "orig_nbformat": 4,
  "vscode": {
   "interpreter": {
    "hash": "3fbbf02bd84b59319ae90c5df29ea12598dad09c619f8b1723e7cd6cf5fd4ac7"
   }
  }
 },
 "nbformat": 4,
 "nbformat_minor": 2
}
