{
 "cells": [
  {
   "cell_type": "markdown",
   "metadata": {},
   "source": [
    "Bilgisayarın Tahmin Ettiği Sayıyı Bul!"
   ]
  },
  {
   "cell_type": "code",
   "execution_count": 1,
   "metadata": {},
   "outputs": [
    {
     "name": "stdout",
     "output_type": "stream",
     "text": [
      "Tahmin ettiğiniz sayıyı yükseltiniz!\n",
      "Tahmin ettiğiniz sayıyı yükseltiniz!\n",
      "Tahmin ettiğiniz sayıyı Küçültünüz!\n",
      "Tahmin ettiğiniz sayıyı Küçültünüz!\n",
      "Tahmin ettiğiniz sayıyı Küçültünüz!\n",
      "Tahmin ettiğiniz sayıyı Küçültünüz!\n",
      "Tahmin ettiğiniz sayıyı yükseltiniz!\n",
      "Tahmin ettiğiniz sayıyı yükseltiniz!\n",
      "Tahmin ettiğiniz sayıyı yükseltiniz!\n",
      "Tahmin ettiğiniz sayıyı yükseltiniz!\n",
      "Tahmin ettiğiniz sayıyı Küçültünüz!\n",
      "Tahmin ettiğiniz sayıyı yükseltiniz!\n",
      "Tahmin ettiğiniz sayıyı yükseltiniz!\n",
      "Tahmin ettiğiniz sayıyı yükseltiniz!\n",
      "Tebrikler sayıyı buldunuz! 88\n",
      "15 kere tahminde bulundunuz.\n"
     ]
    }
   ],
   "source": [
    "from random import randint\n",
    "random=randint(1,100)\n",
    "sayac = 0\n",
    "while True:\n",
    "    sayac += 1\n",
    "    sayi=int(input(\"Tahminde bulunduğununuz değeri giriniz(0 çıkış içindir) : \"))\n",
    "    if (sayi==0):\n",
    "        print(\"Oyundan çıkışınız yapıldı!\")\n",
    "        break\n",
    "    elif sayi<random:\n",
    "        print(\"Tahmin ettiğiniz sayıyı yükseltiniz!\")\n",
    "        continue\n",
    "    elif sayi>random:\n",
    "        print(\"Tahmin ettiğiniz sayıyı Küçültünüz!\")\n",
    "        continue\n",
    "    else:\n",
    "        print(\"Tebrikler sayıyı buldunuz!\", random)\n",
    "        print(sayac,\"kere tahminde bulundunuz.\")\n",
    "        break"
   ]
  }
 ],
 "metadata": {
  "kernelspec": {
   "display_name": "Python 3.10.5 64-bit (windows store)",
   "language": "python",
   "name": "python3"
  },
  "language_info": {
   "codemirror_mode": {
    "name": "ipython",
    "version": 3
   },
   "file_extension": ".py",
   "mimetype": "text/x-python",
   "name": "python",
   "nbconvert_exporter": "python",
   "pygments_lexer": "ipython3",
   "version": "3.10.5"
  },
  "orig_nbformat": 4,
  "vscode": {
   "interpreter": {
    "hash": "3fbbf02bd84b59319ae90c5df29ea12598dad09c619f8b1723e7cd6cf5fd4ac7"
   }
  }
 },
 "nbformat": 4,
 "nbformat_minor": 2
}
