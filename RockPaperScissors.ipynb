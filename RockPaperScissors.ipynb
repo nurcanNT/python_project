{
 "cells": [
  {
   "cell_type": "markdown",
   "metadata": {},
   "source": [
    "Rock Paper Scissors Game (Taş Kağıt Makas Oyunu)"
   ]
  },
  {
   "cell_type": "code",
   "execution_count": 3,
   "metadata": {},
   "outputs": [
    {
     "name": "stdout",
     "output_type": "stream",
     "text": [
      "Taş Kağıt Makas Oyununa Hoş Geldiniz...\n",
      "Oyunu sonlandırmak için q tuşuna basabilirsiniz.\n",
      "Bilgisayarın seçimi : Makas \n",
      " Sonuç : Kazandınız!\n",
      "Unutma makas kağıdı keser!!!\n",
      "Oyundan Çıkılıyor...\n"
     ]
    }
   ],
   "source": [
    "import random\n",
    "choice=[\"rock\",\"paper\",\"scissors\"]\n",
    "rock=choice[0]\n",
    "paper=choice[1]\n",
    "scissors=choice[2]\n",
    "print(\"Taş Kağıt Makas Oyununa Hoş Geldiniz...\\nOyunu sonlandırmak için q tuşuna basabilirsiniz.\")\n",
    "while True:\n",
    "  selection=input(\"Taş mı kağıt mı makas mı?\")\n",
    "  computer_selection=random.choice(choice)\n",
    "  if selection==rock:\n",
    "    if computer_selection==rock:\n",
    "      print(\"Bilgisayarın seçimi : Taş \\n Sonuç : Berabere!\")\n",
    "    elif computer_selection==paper:\n",
    "         print(\"Bilgisayarın seçimi : Kağıt \\n Sonuç : Kaybettiniz!\")\n",
    "    else:\n",
    "        print(\"Bilgisayarın seçimi : Makas \\n Sonuç : Kazandınız!\")\n",
    "        print(\"Unutma makas kağıdı keser!!!\")\n",
    "  if selection==paper:\n",
    "    if computer_selection==rock:\n",
    "      print(\"Bilgisayarın seçimi : Taş \\n Sonuç : Kazandınız!\")\n",
    "    elif computer_selection==paper:\n",
    "         print(\"Bilgisayarın seçimi : Kağıt \\n Sonuç : Berabere!\")\n",
    "    else:\n",
    "        print(\"Bilgisayarın seçimi : Makas \\n Sonuç : Kaybettiniz!\")\n",
    "        print(\"Unutma makas kağıdı keser!!!\")\n",
    "  if selection==scissors:\n",
    "    if computer_selection==rock:\n",
    "      print(\"Bilgisayarın seçimi : Taş \\n Sonuç : Kaybettiniz!\")\n",
    "    elif computer_selection==paper:\n",
    "         print(\"Bilgisayarın seçimi : Kağıt \\n Sonuç : Kazandınız!\")\n",
    "         print(\"Unutma makas kağıdı keser!!!\")\n",
    "    else:\n",
    "        print(\"Bilgisayarın seçimi : Makas \\n Sonuç : Berabere!\")  \n",
    "  if selection==\"q\":\n",
    "    print(\"Oyundan Çıkılıyor...\")\n",
    "    break \n",
    "\n"
   ]
  }
 ],
 "metadata": {
  "kernelspec": {
   "display_name": "Python 3.10.5 64-bit (windows store)",
   "language": "python",
   "name": "python3"
  },
  "language_info": {
   "codemirror_mode": {
    "name": "ipython",
    "version": 3
   },
   "file_extension": ".py",
   "mimetype": "text/x-python",
   "name": "python",
   "nbconvert_exporter": "python",
   "pygments_lexer": "ipython3",
   "version": "3.10.5"
  },
  "orig_nbformat": 4,
  "vscode": {
   "interpreter": {
    "hash": "3fbbf02bd84b59319ae90c5df29ea12598dad09c619f8b1723e7cd6cf5fd4ac7"
   }
  }
 },
 "nbformat": 4,
 "nbformat_minor": 2
}
