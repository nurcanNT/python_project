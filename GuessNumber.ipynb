{
 "cells": [
  {
   "cell_type": "code",
   "execution_count": 1,
   "metadata": {},
   "outputs": [
    {
     "name": "stdout",
     "output_type": "stream",
     "text": [
      "Sayınızı büyültünüz : \n",
      "Sayınızı büyültünüz : \n",
      "Sayınızı küçültünüz : \n",
      "Tebrikler... Doğru tahmin...\n"
     ]
    }
   ],
   "source": [
    "import random\n",
    "rastgele=random.randint(1,100)\n",
    "for i in range(7):\n",
    "    tahmin= int(input(\"Tahmin oyunu için bir sayı giriniz :\"))\n",
    "    if(rastgele>tahmin):\n",
    "        print(\"Sayınızı büyültünüz : \")\n",
    "    elif(rastgele<tahmin):\n",
    "        print(\"Sayınızı küçültünüz : \")\n",
    "    else:\n",
    "        print(\"Tebrikler... Doğru tahmin...\",)\n",
    "        break\n",
    "        \n",
    "if(rastgele != tahmin):\n",
    "    print(\"Üzgünüm bilemediniz... Rastgele sayımız : \",rastgele)\n"
   ]
  }
 ],
 "metadata": {
  "kernelspec": {
   "display_name": "Python 3.10.4 64-bit (windows store)",
   "language": "python",
   "name": "python3"
  },
  "language_info": {
   "codemirror_mode": {
    "name": "ipython",
    "version": 3
   },
   "file_extension": ".py",
   "mimetype": "text/x-python",
   "name": "python",
   "nbconvert_exporter": "python",
   "pygments_lexer": "ipython3",
   "version": "3.10.4"
  },
  "orig_nbformat": 4,
  "vscode": {
   "interpreter": {
    "hash": "3fbbf02bd84b59319ae90c5df29ea12598dad09c619f8b1723e7cd6cf5fd4ac7"
   }
  }
 },
 "nbformat": 4,
 "nbformat_minor": 2
}
